{
 "cells": [
  {
   "cell_type": "markdown",
   "metadata": {
    "id": "xnh26cHKQv1q"
   },
   "source": [
    "# Lab 13: Bagging, Boosting and Photometric Redshift\n",
    "\n",
    "In this notebook, we explore the powerful ensemble class of methods in sklearn. We use Random Forests, AdaBoost and GradientBoosting to estimate photometric redshifts starting from observations of galaxy magnitudes in six different photometric bands (u, g, r, i, z, y). \n",
    "\n",
    "License: [BSD-3-clause](https://opensource.org/license/bsd-3-clause/)\n",
    "\n",
    "Essentially, we try to reproduce/improve upon the results of [this paper](https://arxiv.org/abs/1903.08174), for which the data are public and available [here](http://d-scholarship.pitt.edu/36064/). "
   ]
  },
  {
   "cell_type": "markdown",
   "metadata": {
    "id": "-DKxrrOfQv13"
   },
   "source": [
    "To get an idea of what we are shooting for, we can look at a figure in the paper:\n",
    "\n",
    " ![Performance of photometric redshift reconstruction](Photoz_RF_CFHTLS_Deep.png)"
   ]
  },
  {
   "cell_type": "markdown",
   "metadata": {
    "id": "oZym_077Qv13"
   },
   "source": [
    "In the figure above, $\\sigma_{NMAD}$ is the normalized median absolute deviation of the residual vector, and $\\eta$  is the fraction of outliers, defined as those objects for which (z_true - z_est)/(1+z_true) > 0.15. To be fair, we are working with DEEP2/3 data, so our range is slightly different."
   ]
  },
  {
   "cell_type": "code",
   "execution_count": 5,
   "metadata": {
    "id": "mKiBCM6oQv1r"
   },
   "outputs": [],
   "source": [
    "import numpy as np\n",
    "import pandas as pd\n",
    "import matplotlib\n",
    "import matplotlib.pyplot as plt\n",
    "\n",
    "pd.set_option('display.max_columns', 100)\n",
    "pd.set_option('display.max_rows', 100)\n",
    "pd.set_option('display.max_colwidth', 100)\n",
    "\n",
    "font = {'size'   : 16}\n",
    "matplotlib.rc('font', **font)\n",
    "matplotlib.rc('xtick', labelsize=14) \n",
    "matplotlib.rc('ytick', labelsize=14) \n",
    "matplotlib.rcParams.update({'figure.autolayout': False})\n",
    "matplotlib.rcParams['figure.dpi'] = 100"
   ]
  },
  {
   "cell_type": "code",
   "execution_count": 6,
   "metadata": {
    "id": "mtgxhS0hQv1t"
   },
   "outputs": [],
   "source": [
    "from sklearn import metrics\n",
    "from sklearn.model_selection import cross_validate, KFold, cross_val_predict, GridSearchCV\n",
    "from sklearn.tree import DecisionTreeRegressor\n",
    "from sklearn.ensemble import RandomForestRegressor, ExtraTreesRegressor"
   ]
  },
  {
   "cell_type": "code",
   "execution_count": 7,
   "metadata": {
    "id": "u-fEjYyuQv1u"
   },
   "outputs": [],
   "source": [
    "import astropy\n",
    "from astropy.io import fits\n",
    "#fits stands for Flexible Image Transport System; it's a format that allows one to store images and summary data"
   ]
  },
  {
   "cell_type": "markdown",
   "metadata": {
    "id": "DUO-vGIKQv1v"
   },
   "source": [
    "## Step 1: Data import and preparation"
   ]
  },
  {
   "cell_type": "markdown",
   "metadata": {
    "id": "3TdqKz1KQv1v"
   },
   "source": [
    "We can read the data into a data frame using pandas:"
   ]
  },
  {
   "cell_type": "code",
   "execution_count": 8,
   "metadata": {
    "id": "o8LTrJC-Qv1w"
   },
   "outputs": [],
   "source": [
    "with fits.open('DEEP2_uniq_Terapix_Subaru_v1.fits') as data:\n",
    "    df = pd.DataFrame(np.array(data[1].data).byteswap().newbyteorder()) #see https://numpy.org/devdocs/user/basics.byteswapping.html#changing-byte-ordering"
   ]
  },
  {
   "cell_type": "markdown",
   "metadata": {},
   "source": [
    "1. How many features and examples are in the dataset?"
   ]
  },
  {
   "cell_type": "code",
   "execution_count": 11,
   "metadata": {
    "id": "kKaur7ZgQv1z",
    "outputId": "91eba0cd-af37-4a2b-a730-ab933fc6c24c"
   },
   "outputs": [
    {
     "name": "stdout",
     "output_type": "stream",
     "text": [
      "\n",
      "There are 23822 examples and 78 features in the dataset \n",
      "\n"
     ]
    }
   ],
   "source": [
    "df\n",
    "print(\"\"\"\n",
    "There are 23822 examples and 78 features in the dataset\n",
    "\"\"\")"
   ]
  },
  {
   "cell_type": "markdown",
   "metadata": {},
   "source": [
    "2. What are the names of the features?"
   ]
  },
  {
   "cell_type": "code",
   "execution_count": 13,
   "metadata": {
    "id": "BEx0ecW2Qv1w",
    "outputId": "55b352b1-68f7-4499-eb00-873ab4cce770",
    "scrolled": true
   },
   "outputs": [
    {
     "data": {
      "text/plain": [
       "array(['objno_deep2', 'ra_deep2', 'dec_deep2', 'magb', 'magr', 'magi',\n",
       "       'pgal', 'sfd_ebv', 'class', 'subclass', 'objname', 'maskname',\n",
       "       'slitname', 'date', 'mjd', 'z_raw', 'zhelio', 'z_err', 'rchi2',\n",
       "       'dof', 'vdisp', 'vdisp_err', 'zquality', 'egsflags', 'comment',\n",
       "       'm_b', 'ub_0', 'ra_cfhtls', 'dec_cfhtls', 'u', 'g', 'r', 'i', 'i2',\n",
       "       'z', 'uerr', 'gerr', 'rerr', 'ierr', 'i2err', 'zerr', 'u_apercor',\n",
       "       'g_apercor', 'r_apercor', 'i_apercor', 'i2_apercor', 'z_apercor',\n",
       "       'uerr_aper', 'gerr_aper', 'rerr_aper', 'ierr_aper', 'i2err_aper',\n",
       "       'zerr_aper', 'uerr_apercor', 'gerr_apercor', 'rerr_apercor',\n",
       "       'ierr_apercor', 'i2err_apercor', 'zerr_apercor', 'r_radius_arcsec',\n",
       "       'u(sexflag)', 'g(sexflag)', 'r(sexflag)', 'i(sexflag)',\n",
       "       'i2(sexflag)', 'z(sexflag)', 'flag_cfhtls', 'cfhtls_source',\n",
       "       'ra_subaru', 'dec_subaru', 'y', 'yerr', 'y_apercor', 'yerr_aper',\n",
       "       'yerr_apercor', 'y(sexflag)', 'y_radius_arcsec', 'subaru_source'],\n",
       "      dtype=object)"
      ]
     },
     "execution_count": 13,
     "metadata": {},
     "output_type": "execute_result"
    }
   ],
   "source": [
    "df.columns.values"
   ]
  },
  {
   "cell_type": "markdown",
   "metadata": {},
   "source": [
    "3. Define a dataframe that contains as features the six galaxy brightness bands of interest: *u_apercor, g_apercor, r_apercor, i_apercor, z_apercor,y_apercor*"
   ]
  },
  {
   "cell_type": "code",
   "execution_count": 14,
   "metadata": {
    "id": "mdobujjcQv10"
   },
   "outputs": [],
   "source": [
    "features = df[['u_apercor', 'g_apercor', 'r_apercor', 'i_apercor', 'z_apercor','y_apercor']]"
   ]
  },
  {
   "cell_type": "markdown",
   "metadata": {},
   "source": [
    "4. Define a dataframe that contains as target the spectroscopic redshifts, found under the label *zhelio*"
   ]
  },
  {
   "cell_type": "code",
   "execution_count": 15,
   "metadata": {
    "id": "E4Xo_lVmQv11"
   },
   "outputs": [],
   "source": [
    "target = df['zhelio']"
   ]
  },
  {
   "cell_type": "markdown",
   "metadata": {
    "id": "auB81H2uQv12"
   },
   "source": [
    "## Step 2 : The first Random Forest model!\n",
    "\n",
    "1. Define a RandomForestRegressor() model. Check out what hyperparameters it has by calling .get_params(). \n",
    "\n",
    "2. Establish a benchmark using our usual 3-fold cross-validated scores with shuffling, It takes a little time, to speed things up try setting n_jobs = -1, which uses all cores on your CPU. What is the default evaluation metric here?\n",
    "\n",
    "3. Does the model suffer from high bias or high variance?"
   ]
  },
  {
   "cell_type": "code",
   "execution_count": 19,
   "metadata": {
    "id": "y-HPiljuQv14",
    "scrolled": true
   },
   "outputs": [
    {
     "name": "stdout",
     "output_type": "stream",
     "text": [
      "{'bootstrap': True, 'ccp_alpha': 0.0, 'criterion': 'squared_error', 'max_depth': None, 'max_features': 1.0, 'max_leaf_nodes': None, 'max_samples': None, 'min_impurity_decrease': 0.0, 'min_samples_leaf': 1, 'min_samples_split': 2, 'min_weight_fraction_leaf': 0.0, 'n_estimators': 100, 'n_jobs': None, 'oob_score': False, 'random_state': 42, 'verbose': 0, 'warm_start': False}\n"
     ]
    }
   ],
   "source": [
    "model = RandomForestRegressor(n_estimators=100, random_state=42)\n",
    "params = model.get_params()\n",
    "print(params)"
   ]
  },
  {
   "cell_type": "code",
   "execution_count": 21,
   "metadata": {
    "id": "BlAIQmROQv15"
   },
   "outputs": [],
   "source": [
    "n_splits = 3\n",
    "kf = KFold(n_splits=n_splits, shuffle=True, random_state=42)\n",
    "\n"
   ]
  },
  {
   "cell_type": "code",
   "execution_count": 22,
   "metadata": {
    "id": "t5XlSz2FQv15",
    "outputId": "f04d0be6-f905-4bde-d00e-f15872a09413"
   },
   "outputs": [],
   "source": [
    "scores = cross_validate(model, features, target, cv=kf, n_jobs=-1 , return_train_score=True )\n"
   ]
  },
  {
   "cell_type": "code",
   "execution_count": 26,
   "metadata": {
    "pycharm": {
     "name": "#%%\n"
    }
   },
   "outputs": [
    {
     "name": "stdout",
     "output_type": "stream",
     "text": [
      "test scores [0.3217413  0.28238929 0.31415639]\n",
      "train scores [0.3217413  0.28238929 0.31415639]\n",
      "test scores mean 0.30609566032540814\n",
      "train scores mean 0.876322085220091\n"
     ]
    }
   ],
   "source": [
    "print(f\"test scores {scores['test_score']}\")\n",
    "print(f\"train scores {scores['test_score']}\")\n",
    "print(f\"test scores mean {scores['test_score'].mean()}\")\n",
    "print(f\"train scores mean {scores['train_score'].mean()}\")"
   ]
  },
  {
   "cell_type": "code",
   "execution_count": 27,
   "metadata": {
    "pycharm": {
     "name": "#%%\n"
    }
   },
   "outputs": [
    {
     "name": "stdout",
     "output_type": "stream",
     "text": [
      "High Variance\n"
     ]
    }
   ],
   "source": [
    "print('High Variance')"
   ]
  },
  {
   "cell_type": "markdown",
   "metadata": {},
   "source": [
    "4. Generate cross-validated predictions and plot target (i.e. truth) against predictions. Does the plot look like the one from the beginning of the notebook?"
   ]
  },
  {
   "cell_type": "code",
   "execution_count": 29,
   "metadata": {
    "id": "lHCADREgQv16"
   },
   "outputs": [],
   "source": [
    "prediction = cross_val_predict(model, features, target, cv = kf, n_jobs= -1)"
   ]
  },
  {
   "cell_type": "code",
   "execution_count": 31,
   "metadata": {
    "id": "y8PQeHm5Qv17",
    "outputId": "997df013-012e-4eef-9106-8dcc767f983a"
   },
   "outputs": [
    {
     "data": {
      "text/plain": [
       "Text(0.5, 0, 'target')"
      ]
     },
     "execution_count": 31,
     "metadata": {},
     "output_type": "execute_result"
    },
    {
     "data": {
      "image/png": "[encoded data removed]",
      "text/plain": [
       "<Figure size 640x480 with 1 Axes>"
      ]
     },
     "metadata": {},
     "output_type": "display_data"
    }
   ],
   "source": [
    "plt.scatter(target,prediction)\n",
    "plt.ylabel('prediction')\n",
    "plt.xlabel('target')"
   ]
  },
  {
   "cell_type": "markdown",
   "metadata": {
    "id": "ktMqM6jtQv17"
   },
   "source": [
    "4. It's also interesting to look at the distribution of the predicted values. Plot histograms of both predicted and true values. Any observations?\n"
   ]
  },
  {
   "cell_type": "code",
   "execution_count": 36,
   "metadata": {
    "id": "Jja8vHCpQv18",
    "outputId": "ed1e5aad-a73d-4ab3-c989-e9c8b61134fc"
   },
   "outputs": [
    {
     "data": {
      "text/plain": [
       "<matplotlib.legend.Legend at 0x19bd937f730>"
      ]
     },
     "execution_count": 36,
     "metadata": {},
     "output_type": "execute_result"
    },
    {
     "data": {
      "image/png": "[encoded data removed]",
      "text/plain": [
       "<Figure size 640x480 with 1 Axes>"
      ]
     },
     "metadata": {},
     "output_type": "display_data"
    }
   ],
   "source": [
    "plt.hist(target,alpha = 0.5,label='target')\n",
    "plt.hist(prediction,alpha = 0.5,label='prediction')\n",
    "plt.legend()"
   ]
  },
  {
   "cell_type": "markdown",
   "metadata": {
    "id": "YjolDcK-Qv18"
   },
   "source": [
    "5. Calculate the outlier fraction $\\eta$ defined at the beginning, does it compare to the data from the pape?"
   ]
  },
  {
   "cell_type": "code",
   "execution_count": 38,
   "metadata": {
    "id": "R5VmH8GOQv18",
    "outputId": "f3c7681d-ea8f-4590-9624-4c25dddde8f1"
   },
   "outputs": [
    {
     "data": {
      "text/plain": [
       "0.1013768785156578"
      ]
     },
     "execution_count": 38,
     "metadata": {},
     "output_type": "execute_result"
    }
   ],
   "source": [
    "\n",
    "sum((target - prediction)/(1+target) > 0.15)/target.shape[0]\n"
   ]
  },
  {
   "cell_type": "code",
   "execution_count": 39,
   "metadata": {
    "pycharm": {
     "name": "#%%\n"
    }
   },
   "outputs": [
    {
     "name": "stdout",
     "output_type": "stream",
     "text": [
      "\n",
      "The paper has a reading of 5% \n",
      "\n",
      "------------------------------\n",
      "\n",
      "Effectively there is a difference of 5%\n",
      "\n"
     ]
    }
   ],
   "source": [
    "print(\"\"\"\n",
    "The paper has a reading of 5% \\n\n",
    "------------------------------\\n\n",
    "Effectively there is a difference of 5%\n",
    "\"\"\")"
   ]
  },
  {
   "cell_type": "markdown",
   "metadata": {
    "id": "ZbDXjDhRQv19"
   },
   "source": [
    "## Step 3: Parameter Optimization.\n",
    "\n",
    "1. We can start by making the data set a bit smaller, as we have seen that timings were already challenging in simple k-fold CV. Generate a smaller sample of 5000 examples. They should be drawn randomly without replacement from the full dataset, try *np.random.choice*"
   ]
  },
  {
   "cell_type": "code",
   "execution_count": 42,
   "metadata": {
    "id": "QoDn2jaxQv1-"
   },
   "outputs": [],
   "source": [
    "df_random = df.sample(n=5000, random_state=42)"
   ]
  },
  {
   "cell_type": "code",
   "execution_count": 43,
   "metadata": {
    "id": "O18fZWV5Qv1-"
   },
   "outputs": [],
   "source": [
    "features_subset = df_random[['u_apercor', 'g_apercor', 'r_apercor', 'i_apercor', 'z_apercor','y_apercor']]\n",
    "target_subset = df_random['zhelio']"
   ]
  },
  {
   "cell_type": "markdown",
   "metadata": {
    "id": "jzH4ck7_W1nk"
   },
   "source": [
    "2. It is good practice to ensure that the performance on the smaller set remains similar to the one obtained on the entire data set, which means that the change in size will not significantly affect the optimization process. So run the 3-fold crossvalidation again on the smaller dataset"
   ]
  },
  {
   "cell_type": "code",
   "execution_count": 50,
   "metadata": {
    "id": "3yPWNGKYQv1-"
   },
   "outputs": [
    {
     "name": "stdout",
     "output_type": "stream",
     "text": [
      "test scores [0.30619419 0.24871713 0.27992573]\n",
      "train scores [0.30619419 0.24871713 0.27992573]\n",
      "test scores mean 0.2782790183511093\n",
      "train scores mean 0.8611766088669718\n"
     ]
    }
   ],
   "source": [
    "model = RandomForestRegressor()\n",
    "params = model.get_params()\n",
    "\n",
    "kf = KFold()\n",
    "\n",
    "n_splits = 3\n",
    "kf = KFold(n_splits=n_splits, shuffle=True, random_state=42)\n",
    "\n",
    "scores = cross_validate(model, features_subset, target_subset, cv=kf, n_jobs=-1 , return_train_score=True )\n",
    "\n",
    "print(f\"test scores {scores['test_score']}\")\n",
    "print(f\"train scores {scores['test_score']}\")\n",
    "print(f\"test scores mean {scores['test_score'].mean()}\")\n",
    "print(f\"train scores mean {scores['train_score'].mean()}\")"
   ]
  },
  {
   "cell_type": "markdown",
   "metadata": {
    "id": "rgU0AJtIQv1_"
   },
   "source": [
    "3. We are now ready to optimize hyperparameters. Here are some options:"
   ]
  },
  {
   "cell_type": "markdown",
   "metadata": {
    "id": "Qx8IihvwQv1_"
   },
   "source": [
    "#### Tree Parameters\n",
    "\n",
    "Some useful parameters associated to a tree are:\n",
    "\n",
    "-  The minimum number of instances in a leaf node;\n",
    "\n",
    "-  The minimum number of instances required in a split node;\n",
    "\n",
    "- The maximum depth of tree;\n",
    "\n",
    "-  The criterion chosen to decide whether a split is \"worth it\", expressed in terms of information gain.\n",
    "\n",
    "\n",
    "#### Randomization Parameters\n",
    "\n",
    "Here we find:\n",
    "\n",
    "- The number of k < n features that are used in building trees;\n",
    "\n",
    "- The re-sampling (boostrap) of the data set (T or F).\n",
    "\n",
    "\n",
    "#### Forest Parameters\n",
    "\n",
    "The number of trees in the forest (n_estimators) can be adjusted, with the general understanding that more trees are better, but at some point performance will plateau, so one can find the trade-off between having more trees and lower runtime."
   ]
  },
  {
   "cell_type": "markdown",
   "metadata": {
    "id": "8wbIVzT7Qv2A"
   },
   "source": [
    "Try running grid search to look for the best model within the following parameter subset. Are you able to improve the model significantly?"
   ]
  },
  {
   "cell_type": "markdown",
   "metadata": {
    "id": "VYGWEz_qQv2A"
   },
   "source": [
    "- min_impurity_decrease: 0, 0.1, 0.5  \n",
    "\n",
    "- max_leaf_nodes: None, 100, 200\n",
    "\n",
    "- min_samples_split: 10, 20, 100\n",
    "\n",
    "- max_features: None, 2, 4"
   ]
  },
  {
   "cell_type": "code",
   "execution_count": 52,
   "metadata": {
    "id": "bi1FmG7pQv2B",
    "outputId": "0ac959f4-be3c-43e0-dd4f-7f56cff91ac3"
   },
   "outputs": [
    {
     "name": "stderr",
     "output_type": "stream",
     "text": [
      "C:\\Users\\kesha\\miniconda3\\envs\\cs425\\lib\\site-packages\\sklearn\\model_selection\\_search.py:976: UserWarning: One or more of the test scores are non-finite: [nan nan nan]\n",
      "  warnings.warn(\n"
     ]
    },
    {
     "name": "stdout",
     "output_type": "stream",
     "text": [
      "Best parameters: {'bootstrap': True, 'ccp_alpha': 0.0, 'criterion': 'squared_error', 'max_depth': None, 'max_features': 1.0, 'max_leaf_nodes': None, 'max_samples': None, 'min_impurity_decrease': 0, 'min_samples_leaf': 1, 'min_samples_split': 2, 'min_weight_fraction_leaf': 0.0, 'n_estimators': 100, 'n_jobs': None, 'oob_score': False, 'random_state': None, 'verbose': 0, 'warm_start': False}\n",
      "Best score: nan\n"
     ]
    }
   ],
   "source": [
    "from sklearn.model_selection import GridSearchCV\n",
    "\n",
    "parameters = {\n",
    "    'min_impurity_decrease': [0, 0.1, 0.5],\n",
    "}\n",
    "\n",
    "grid_search = GridSearchCV(model, parameters, cv=kf, scoring='accuracy', n_jobs=-1)\n",
    "grid_search.fit(features_subset, target_subset)\n",
    "\n",
    "best_model = grid_search.best_estimator_  # Access the model with the best hyperparameters\n",
    "best_score = grid_search.best_score_  # Get the best score achieved\n",
    "\n",
    "print(\"Best parameters:\", best_model.get_params())\n",
    "print(\"Best score:\", best_score)"
   ]
  },
  {
   "cell_type": "code",
   "execution_count": 48,
   "metadata": {
    "pycharm": {
     "name": "#%%\n"
    }
   },
   "outputs": [
    {
     "data": {
      "text/plain": [
       "0"
      ]
     },
     "execution_count": 48,
     "metadata": {},
     "output_type": "execute_result"
    }
   ],
   "source": [
    "print(\"We find that the optimization doesn't seem to improve the outcome\")"
   ]
  },
  {
   "cell_type": "markdown",
   "metadata": {
    "id": "0zxsWtClQv2C"
   },
   "source": [
    "4. In addition to hyperparameter optimization, another possibility for improving the model could be to consider additional features that might help the decision trees. \n",
    "\n",
    "We need to retain some additional columns to be used in the selection process. Try adding *'subaru_source','cfhtls_source','zquality'* to the already existing six features."
   ]
  },
  {
   "cell_type": "code",
   "execution_count": 65,
   "metadata": {
    "id": "StcRSEwGQv2C"
   },
   "outputs": [
    {
     "data": {
      "text/plain": [
       "(23822, 10)"
      ]
     },
     "execution_count": 65,
     "metadata": {},
     "output_type": "execute_result"
    }
   ],
   "source": [
    "mags = df[['u_apercor', 'g_apercor', 'r_apercor', 'i_apercor', 'z_apercor','y_apercor','subaru_source','cfhtls_source','zquality','zhelio']]\n",
    "mags.shape"
   ]
  },
  {
   "cell_type": "markdown",
   "metadata": {},
   "source": [
    "There are a few more clean-up steps that help in the process. Finding these constitutes many hours of research work, but here we take a shortcut and benefit from the knowledge of the authors of the redshift paper.\n",
    "\n",
    "a) only use objects with high-quality spectroscopic redshift measurements, zquality>3\n",
    "\n",
    "b) select objects with cfhtls deep photometric data, cfhtls_source = 0 "
   ]
  },
  {
   "cell_type": "code",
   "execution_count": 76,
   "metadata": {
    "id": "ojJL3glYQv2C",
    "outputId": "57b1a547-3031-4c77-9c14-32bb33be3b23"
   },
   "outputs": [],
   "source": [
    "filtered_df = mags.query('zquality >= 3 and cfhtls_source == 0')"
   ]
  },
  {
   "cell_type": "markdown",
   "metadata": {
    "id": "WHcinRRWQv2D"
   },
   "source": [
    "c) Unavailable measurements are marked by -99 or 99 (while typical values are around 20-25). We also get rid of data with missing measurements."
   ]
  },
  {
   "cell_type": "code",
   "execution_count": 78,
   "metadata": {
    "id": "kxIykm0mQv2D"
   },
   "outputs": [],
   "source": [
    "filtered_df = filtered_df[filtered_df > -10].dropna()\n",
    "filtered_df = filtered_df[filtered_df < 90].dropna()\n"
   ]
  },
  {
   "cell_type": "markdown",
   "metadata": {
    "id": "TwPbGAZ6Qv2E"
   },
   "source": [
    "Now that we have curated this extended data set with the additional information, we only keep the six original features in this dataset in our final dataset that should have 6,307 objects. We need, of course, to select the same set on the target vector."
   ]
  },
  {
   "cell_type": "code",
   "execution_count": 79,
   "metadata": {
    "id": "PJ85PSg0Qv2E",
    "outputId": "63d08e83-12ad-455d-e1a5-0461365150c7"
   },
   "outputs": [],
   "source": [
    "mags_subset = filtered_df[['u_apercor', 'g_apercor', 'r_apercor', 'i_apercor', 'z_apercor','y_apercor']]\n",
    "\n",
    "mags_target = filtered_df['zhelio']\n"
   ]
  },
  {
   "cell_type": "markdown",
   "metadata": {
    "id": "a_diGu-rQv2F"
   },
   "source": [
    "5. Evaluate this new benchmark model via cross-validation. Note that for reproducible results we need to fix the random\\_state=5 parameter of the Random Forest (which controls the bootstrap process) and the random_state=10 of the cross validation.\n",
    "\n",
    "Find the new mean test and train scores, has the model improved?"
   ]
  },
  {
   "cell_type": "code",
   "execution_count": 80,
   "metadata": {
    "id": "RgGN-LvbQv2F"
   },
   "outputs": [
    {
     "name": "stdout",
     "output_type": "stream",
     "text": [
      "test scores [0.7229522  0.66783251 0.83397507]\n",
      "train scores [0.7229522  0.66783251 0.83397507]\n",
      "test scores mean 0.7415865913167131\n",
      "train scores mean 0.9637139256482321\n"
     ]
    }
   ],
   "source": [
    "model = RandomForestRegressor()\n",
    "params = model.get_params()\n",
    "\n",
    "kf = KFold()\n",
    "\n",
    "n_splits = 3\n",
    "kf = KFold(n_splits=n_splits, shuffle=True, random_state=10)\n",
    "\n",
    "scores = cross_validate(model, mags_subset, mags_target, cv=kf, n_jobs=-1 , return_train_score=True )\n",
    "\n",
    "print(f\"test scores {scores['test_score']}\")\n",
    "print(f\"train scores {scores['test_score']}\")\n",
    "print(f\"test scores mean {scores['test_score'].mean()}\")\n",
    "print(f\"train scores mean {scores['train_score'].mean()}\")"
   ]
  },
  {
   "cell_type": "markdown",
   "metadata": {
    "id": "biGkjPG6Qv2F"
   },
   "source": [
    "We can re-run the optimization process (note that the data set size is limited, so we don't need to make it smaller), but let's skip this for now in the interest of time."
   ]
  },
  {
   "cell_type": "markdown",
   "metadata": {
    "id": "4UXfvfPlQv2H"
   },
   "source": [
    "Finally, we can generate one set of predictions to visualize what happens. Plot again observed values against predictions. Any improvement? Also compute the outlier fraction. "
   ]
  },
  {
   "cell_type": "code",
   "execution_count": 84,
   "metadata": {
    "pycharm": {
     "name": "#%%\n"
    }
   },
   "outputs": [],
   "source": [
    "prediction = cross_val_predict(model, mags_subset, mags_target, cv=kf, n_jobs=-1 )"
   ]
  },
  {
   "cell_type": "code",
   "execution_count": 86,
   "metadata": {
    "id": "lZ3M2t8EQv2H"
   },
   "outputs": [
    {
     "data": {
      "text/plain": [
       "Text(0, 0.5, 'Target Value')"
      ]
     },
     "execution_count": 86,
     "metadata": {},
     "output_type": "execute_result"
    },
    {
     "data": {
      "image/png": "[encoded data removed]",
      "text/plain": [
       "<Figure size 640x480 with 1 Axes>"
      ]
     },
     "metadata": {},
     "output_type": "display_data"
    }
   ],
   "source": [
    "plt.scatter(prediction,mags_target)\n",
    "plt.xlabel('Predictions')\n",
    "plt.ylabel('Target Value')"
   ]
  },
  {
   "cell_type": "markdown",
   "metadata": {},
   "source": [
    "## Step 4: Boosting Methods\n",
    "\n",
    "Now that we have explored random forests, let's take a look at the boosting strategy."
   ]
  },
  {
   "cell_type": "code",
   "execution_count": 87,
   "metadata": {},
   "outputs": [],
   "source": [
    "from sklearn.ensemble import AdaBoostRegressor"
   ]
  },
  {
   "cell_type": "markdown",
   "metadata": {},
   "source": [
    "1. First, set up the AdaBoostRegressor with the default parameters, compute cross-validated prediction and make a scatter plot of predictions versus true values. Also check out the default parameters via .get_params(). Any comments?"
   ]
  },
  {
   "cell_type": "code",
   "execution_count": 88,
   "metadata": {},
   "outputs": [
    {
     "name": "stdout",
     "output_type": "stream",
     "text": [
      "test scores [-0.17722003  0.02236971  0.00974877]\n",
      "train scores [-0.17722003  0.02236971  0.00974877]\n",
      "test scores mean -0.048367182947866426\n",
      "train scores mean 0.05192761550516326\n"
     ]
    }
   ],
   "source": [
    "model = AdaBoostRegressor()\n",
    "params = model.get_params()\n",
    "\n",
    "kf = KFold()\n",
    "\n",
    "n_splits = 3\n",
    "kf = KFold(n_splits=n_splits, shuffle=True, random_state=10)\n",
    "\n",
    "scores = cross_validate(model, mags_subset, mags_target, cv=kf, n_jobs=-1 , return_train_score=True )\n",
    "\n",
    "print(f\"test scores {scores['test_score']}\")\n",
    "print(f\"train scores {scores['test_score']}\")\n",
    "print(f\"test scores mean {scores['test_score'].mean()}\")\n",
    "print(f\"train scores mean {scores['train_score'].mean()}\")"
   ]
  },
  {
   "cell_type": "code",
   "execution_count": 89,
   "metadata": {
    "pycharm": {
     "name": "#%%\n"
    }
   },
   "outputs": [
    {
     "data": {
      "text/plain": [
       "<matplotlib.collections.PathCollection at 0x19be0213730>"
      ]
     },
     "execution_count": 89,
     "metadata": {},
     "output_type": "execute_result"
    },
    {
     "data": {
      "image/png": "[encoded data removed]",
      "text/plain": [
       "<Figure size 640x480 with 1 Axes>"
      ]
     },
     "metadata": {},
     "output_type": "display_data"
    }
   ],
   "source": [
    "prediction = cross_val_predict(model, mags_subset, mags_target, cv=kf, n_jobs=-1 )\n",
    "\n",
    "plt.scatter(prediction,mags_target)"
   ]
  },
  {
   "cell_type": "markdown",
   "metadata": {},
   "source": [
    "2. The AdaBoostRegressor has a nice property called \"staged_predict\" that lets one examine how the prediction gradually improves with stacking at each stage. Create a train/test split (test_size=0.3) because we need to use the \".fit\" method in order to access the \"staged_predict\" property later.\n",
    "\n",
    "Initialize AdaBoostRegressor with **estimator=DecisionTreeRegressor(max_depth=3),n_estimators=30**, fit the AdaBoostRegressor to the training set, then use the staged_predict property to make a plot of R2-score versus iteration for up to the 30 estimators."
   ]
  },
  {
   "cell_type": "code",
   "execution_count": 90,
   "metadata": {},
   "outputs": [
    {
     "name": "stdout",
     "output_type": "stream",
     "text": [
      "test scores [0.2101863  0.19793679 0.23052874]\n",
      "train scores [0.2101863  0.19793679 0.23052874]\n",
      "test scores mean 0.21288394567414837\n",
      "train scores mean 0.2641374878504613\n"
     ]
    }
   ],
   "source": [
    "model = AdaBoostRegressor(estimator=DecisionTreeRegressor(max_depth=3),n_estimators=3)\n",
    "params = model.get_params()\n",
    "\n",
    "kf = KFold()\n",
    "\n",
    "n_splits = 3\n",
    "kf = KFold(n_splits=n_splits, shuffle=True, random_state=10)\n",
    "\n",
    "scores = cross_validate(model, mags_subset, mags_target, cv=kf, n_jobs=-1 , return_train_score=True )\n",
    "\n",
    "print(f\"test scores {scores['test_score']}\")\n",
    "print(f\"train scores {scores['test_score']}\")\n",
    "print(f\"test scores mean {scores['test_score'].mean()}\")\n",
    "print(f\"train scores mean {scores['train_score'].mean()}\")"
   ]
  },
  {
   "cell_type": "code",
   "execution_count": null,
   "metadata": {},
   "outputs": [],
   "source": []
  },
  {
   "cell_type": "markdown",
   "metadata": {},
   "source": [
    "3. The default estimator in AdaBoost is a decision tree with max_depth=3. Repeat the above calculation with a stronger base learner, i.e. max_depth=6 and max_depth=10 and combine all three curves in one graph. Any comments?"
   ]
  },
  {
   "cell_type": "code",
   "execution_count": null,
   "metadata": {},
   "outputs": [],
   "source": []
  },
  {
   "cell_type": "markdown",
   "metadata": {},
   "source": [
    "4. Now try out GradientBoostingRegressor and produce the same plot with this alternative method. Any comments?"
   ]
  },
  {
   "cell_type": "code",
   "execution_count": null,
   "metadata": {},
   "outputs": [],
   "source": []
  }
 ],
 "metadata": {
  "colab": {
   "provenance": []
  },
  "kernelspec": {
   "display_name": "cs425",
   "language": "python",
   "name": "cs425"
  },
  "language_info": {
   "codemirror_mode": {
    "name": "ipython",
    "version": 3
   },
   "file_extension": ".py",
   "mimetype": "text/x-python",
   "name": "python",
   "nbconvert_exporter": "python",
   "pygments_lexer": "ipython3",
   "version": "3.10.13"
  },
  "toc": {
   "base_numbering": 1,
   "nav_menu": {},
   "number_sections": true,
   "sideBar": true,
   "skip_h1_title": false,
   "title_cell": "Table of Contents",
   "title_sidebar": "Contents",
   "toc_cell": false,
   "toc_position": {},
   "toc_section_display": true,
   "toc_window_display": false
  }
 },
 "nbformat": 4,
 "nbformat_minor": 1
}
